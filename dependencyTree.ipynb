{
 "cells": [
  {
   "cell_type": "code",
   "execution_count": 1,
   "metadata": {
    "collapsed": false
   },
   "outputs": [
    {
     "data": {
      "text/plain": [
       "'Finished loading.'"
      ]
     },
     "execution_count": 1,
     "metadata": {},
     "output_type": "execute_result"
    }
   ],
   "source": [
    "# Slight adaptation of code from\n",
    "# http://stackoverflow.com/questions/36610179/how-to-get-the-dependency-tree-with-spacy\n",
    "from nltk import Tree\n",
    "import json, urllib\n",
    "import spacy\n",
    "\n",
    "en_nlp = spacy.load('en')\n",
    "\n",
    "def to_nltk_tree(node):\n",
    "    if node.n_lefts + node.n_rights > 0:\n",
    "        return Tree(node.orth_, [to_nltk_tree(child) for child in node.children])\n",
    "    else:\n",
    "        return node.orth_\n",
    "\n",
    "(\"Finished loading.\")\n"
   ]
  },
  {
   "cell_type": "code",
   "execution_count": 2,
   "metadata": {
    "collapsed": false
   },
   "outputs": [
    {
     "name": "stdout",
     "output_type": "stream",
     "text": [
      "('Loaded sentence: ', u'A wall is divided horizontally into two equal parts. Top: alternating horizontal black and white 8-inch (20 cm) bands. Bottom: alternating vertical black and white 8-inch (20 cm) bands.')\n"
     ]
    }
   ],
   "source": [
    "instructionsJSON = urllib.urlopen(\"https://raw.githubusercontent.com/apc53c/solving-sol/master/instructions.json\").read()\n",
    "instructions = json.loads(instructionsJSON)\n",
    "anInstruction = instructions[\"630\"][\"description\"] # The first instruction in the file.\n",
    "print(\"Loaded sentence: \", anInstruction)"
   ]
  },
  {
   "cell_type": "code",
   "execution_count": 6,
   "metadata": {
    "collapsed": false
   },
   "outputs": [
    {
     "name": "stdout",
     "output_type": "stream",
     "text": [
      "        jumped                    \n",
      "  ________|_______________         \n",
      " |        |              over     \n",
      " |        |               |        \n",
      " |       fox             dog      \n",
      " |    ____|______      ___|____    \n",
      " .  The quick  black the      lazy\n",
      "\n"
     ]
    },
    {
     "data": {
      "text/plain": [
       "[None]"
      ]
     },
     "execution_count": 6,
     "metadata": {},
     "output_type": "execute_result"
    }
   ],
   "source": [
    "# Try a parse tree for an easy sentence.\n",
    "doc = en_nlp(u\"The quick black fox jumped over the lazy dog.\")\n",
    "\n",
    "[to_nltk_tree(sent.root).pretty_print() for sent in doc.sents]"
   ]
  },
  {
   "cell_type": "code",
   "execution_count": 5,
   "metadata": {
    "collapsed": false
   },
   "outputs": [
    {
     "name": "stdout",
     "output_type": "stream",
     "text": [
      "                 divided                     \n",
      "  __________________|_______________          \n",
      " |       |          |     |        into      \n",
      " |       |          |     |         |         \n",
      " |       |          |    wall     parts      \n",
      " |       |          |     |     ____|_____    \n",
      " is horizontally    .     A   two       equal\n",
      "\n",
      "                           Top                                   \n",
      "  __________________________|________                             \n",
      " |   |                             bands                         \n",
      " |   |        _______________________|_____________________       \n",
      " |   |       |       |             8-inch                  |     \n",
      " |   |       |       |       ________|______               |      \n",
      " |   |       |       |      |             black            cm    \n",
      " |   |       |       |      |         ______|_____      ___|___   \n",
      " :   .  alternating  )  horizontal  and         white  (       20\n",
      "\n",
      "                         Bottom                          \n",
      "  _________________________|_______                       \n",
      " |   |                           bands                   \n",
      " |   |        _____________________|_____                 \n",
      " |   |       |       |                 8-inch            \n",
      " |   |       |       |              _____|_________       \n",
      " |   |       |       |           black             cm    \n",
      " |   |       |       |      _______|_____       ___|___   \n",
      " :   .  alternating  )  vertical  and  white   (       20\n",
      "\n"
     ]
    },
    {
     "data": {
      "text/plain": [
       "[None, None, None]"
      ]
     },
     "execution_count": 5,
     "metadata": {},
     "output_type": "execute_result"
    }
   ],
   "source": [
    "# Try a parse tree for a Sol LeWitt instruction.\n",
    "doc = en_nlp(anInstruction)\n",
    "\n",
    "[to_nltk_tree(sent.root).pretty_print() for sent in doc.sents]"
   ]
  },
  {
   "cell_type": "code",
   "execution_count": null,
   "metadata": {
    "collapsed": true
   },
   "outputs": [],
   "source": []
  }
 ],
 "metadata": {
  "kernelspec": {
   "display_name": "Python 2",
   "language": "python",
   "name": "python2"
  },
  "language_info": {
   "codemirror_mode": {
    "name": "ipython",
    "version": 2
   },
   "file_extension": ".py",
   "mimetype": "text/x-python",
   "name": "python",
   "nbconvert_exporter": "python",
   "pygments_lexer": "ipython2",
   "version": "2.7.12"
  }
 },
 "nbformat": 4,
 "nbformat_minor": 0
}
