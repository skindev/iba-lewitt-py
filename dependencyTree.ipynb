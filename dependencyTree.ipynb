{
 "cells": [
  {
   "cell_type": "code",
   "execution_count": null,
   "metadata": {
    "collapsed": false
   },
   "outputs": [],
   "source": [
    "import sys\n",
    "print(sys.version)\n",
    "import urllib\n",
    "print(urllib.__version__)"
   ]
  },
  {
   "cell_type": "code",
   "execution_count": null,
   "metadata": {
    "collapsed": false
   },
   "outputs": [],
   "source": [
    "\n",
    "# Slight adaptation of code from\n",
    "# http://stackoverflow.com/questions/36610179/how-to-get-the-dependency-tree-with-spacy\n",
    "print(\"Start...\")\n",
    "from nltk import Tree\n",
    "import json, urllib\n",
    "import spacy\n",
    "\n",
    "en_nlp = spacy.load('en')\n",
    "print(\"Middle...\")\n",
    "def to_nltk_tree(node):\n",
    "    if node.n_lefts + node.n_rights > 0:\n",
    "        return Tree(node.orth_, [to_nltk_tree(child) for child in node.children])\n",
    "    else:\n",
    "        return node.orth_\n",
    "\n",
    "\n",
    "print(urllib.__version__)\n",
    "print(\"Finished loading.\")\n"
   ]
  },
  {
   "cell_type": "code",
   "execution_count": null,
   "metadata": {
    "collapsed": false
   },
   "outputs": [],
   "source": [
    "instructionsJSON = urllib.urlopen(\"https://raw.githubusercontent.com/apc53c/solving-sol/master/instructions.json\").read()\n",
    "instructions = json.loads(instructionsJSON)\n",
    "print(instructions.keys())"
   ]
  },
  {
   "cell_type": "code",
   "execution_count": null,
   "metadata": {
    "collapsed": false
   },
   "outputs": [],
   "source": [
    "\n",
    "#anInstruction = instructions[\"391\"][\"description\"] # The first instruction in the file.\n",
    "# Try a parse tree for a Sol LeWitt instruction.\n",
    "allNouns = []\n",
    "for anInstruction in instructions.values():\n",
    "    doc = en_nlp(anInstruction[\"description\"])\n",
    "    for i, sent in enumerate(doc.sents):\n",
    "        for token in sent:\n",
    "            if \"NOUN\" in token.pos_: \n",
    "                allNouns.append(token.orth_)\n",
    "print(set(allNouns))\n",
    "    #[to_nltk_tree(sent.root).pretty_print() for sent in doc.sents]"
   ]
  },
  {
   "cell_type": "code",
   "execution_count": null,
   "metadata": {
    "collapsed": false
   },
   "outputs": [],
   "source": []
  },
  {
   "cell_type": "code",
   "execution_count": null,
   "metadata": {
    "collapsed": false,
    "scrolled": true
   },
   "outputs": [],
   "source": []
  },
  {
   "cell_type": "code",
   "execution_count": null,
   "metadata": {
    "collapsed": false
   },
   "outputs": [],
   "source": []
  },
  {
   "cell_type": "code",
   "execution_count": null,
   "metadata": {
    "collapsed": true
   },
   "outputs": [],
   "source": []
  }
 ],
 "metadata": {
  "kernelspec": {
   "display_name": "Python 2",
   "language": "python",
   "name": "python2"
  },
  "language_info": {
   "codemirror_mode": {
    "name": "ipython",
    "version": 2
   },
   "file_extension": ".py",
   "mimetype": "text/x-python",
   "name": "python",
   "nbconvert_exporter": "python",
   "pygments_lexer": "ipython2",
   "version": "2.7.12"
  }
 },
 "nbformat": 4,
 "nbformat_minor": 0
}
